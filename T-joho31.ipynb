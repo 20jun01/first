{
 "cells": [
  {
   "cell_type": "markdown",
   "metadata": {},
   "source": [
    "$$\n",
    "e^{i\\pi} = -1\n",
    "$$\n",
    "$e^{i\\pi} = -1$"
   ]
  },
  {
   "cell_type": "markdown",
   "metadata": {},
   "source": [
    "# 問題１　数学(1)\n",
    "### (1)$x^2+y^2=4$の条件の下で。$f(x,y)=4x+2xy$の最小値、最大値を求めなさい。また、最小、最大となるときの$x$と$y$も示しなさい。  \n",
    "  \n",
    "### (2)次の二重積分について、以下の問いに答えなさい。$$V=\\iint_{D}(x^2+xy)dxdy　~~\\cdots(*)$$  \n",
    "  \n",
    "  \n",
    "### 　　ただし、$D=\\{(x,y)|x^2+y^2\\leq 1\\}$とする。  \n",
    "(2-1)$x$と$y$を極座標変換し、式$(*)$の右辺を書き換えなさい。  \n",
    "(2-2)$V$の値を求めなさい。"
   ]
  },
  {
   "cell_type": "markdown",
   "metadata": {},
   "source": [
    "# 問題２　数学(2)\n",
    " ### (1) 零ベクトルでないm次元の実列ベクトル$\\mathbf{a}$,$\\mathbf{b}$について$\\mathbf{b}$から$\\mathbf{a}$への射影を考える。$\\mathbf{a}$,$\\mathbf{b}$の内積$\\mathbf{a}^T\\mathbf{b}$(ただし添字Tは転置を表す)および、$\\mathbf{a}$を正規化したベクトル$\\frac{1}{\\|\\mathbf{a}\\|}\\mathbf{a}$(ただし$\\|\\mathbf{a}\\|$はベクトル$\\mathbf{a}$のノルムを表す)を用いると、$\\mathbf{b}$から$\\mathbf{a}$への射影$\\mathbf{p}$は$$\\mathbf{p} = \\frac{\\mathbf{a}^T\\mathbf{b}}{\\|\\mathbf{a}\\|^2}\\mathbf{a}$$と書ける。\n",
    "(1-1) $\\mathbf{p} = P\\mathbf{b}$となるような射影行列$P$を求めなさい。  \n",
    "(1-2) $P^2 = P$となることを示しなさい  \n",
    "(1-3) $I$を単位行列としたとき、$I-P$もまた射影行列となる。この時、$\\mathbf{b}$を$I-P$で射影して得られるベクトル$\\mathbf{c}$と、$\\mathbf{a}$、$\\mathbf{b}$の関係を図示しなさい。"
   ]
  },
  {
   "cell_type": "markdown",
   "metadata": {},
   "source": [
    "### (2) 線形独立な$n$個の$m$次元実列ベクトル$\\mathbf{a_1},\\mathbf{a_2},\\cdots,\\mathbf{a_n}$(ただし$n < m$)によって張られる$m$次元実数空間の部分空間を考え、この部分空間で、零ベクトルでない$m$次元の実列ベクトル$\\mathbf{b}$に最も近いベクトル、すなわち射影$\\mathbf{q}$を求めたい。実係数$x_1,x_2.\\cdots,x_n$を用いて$$\\mathbf{q} = x_1\\mathbf{a_1}+x_2\\mathbf{a_2}+\\cdots+x_n\\mathbf{a_n}$$とおく。さらに、$$A=(\\mathbf{a_1} \\mathbf{a_2} \\cdots \\mathbf{a_n}),$$ $$\\mathbf{x}=(x_1 x_2 \\cdots x_n)^T$$となるような$m\\times n$行列$A$および$n$次元の実列ベクトル$\\mathbf{x}$を用いると、$\\mathbf{q} =A\\mathbf{x}$と書ける。  \n",
    "(2-1) $\\mathbf{q}$から$\\mathbf{b}$に向かうベクトルと、$\\mathbf{a_i}$(ただし$i=1,2,\\cdots ,n$)によって張られる部分空間は直交する。この関係を表す式を、行列$A$およびベクトル$\\mathbf{b},\\mathbf{x}$のみを用いて表しなさい。  \n",
    "(2-2)ベクトル$\\mathbf{x}$を、行列$A$およびベクトル$\\mathbf{b}$のみを用いて表しなさい。"
   ]
  },
  {
   "cell_type": "code",
   "execution_count": null,
   "metadata": {},
   "outputs": [],
   "source": []
  },
  {
   "cell_type": "code",
   "execution_count": null,
   "metadata": {},
   "outputs": [],
   "source": []
  },
  {
   "cell_type": "code",
   "execution_count": null,
   "metadata": {},
   "outputs": [],
   "source": []
  },
  {
   "cell_type": "code",
   "execution_count": null,
   "metadata": {},
   "outputs": [],
   "source": []
  },
  {
   "cell_type": "code",
   "execution_count": null,
   "metadata": {},
   "outputs": [],
   "source": []
  },
  {
   "cell_type": "markdown",
   "metadata": {},
   "source": [
    "# 問題１　数学(1)ー解答例(?)\n",
    "### (1) $x^2+y^2=4$の条件の下で。$f(x,y)=4x+2xy$の最小値、最大値を求めなさい。また、最小、最大となるときの$x$と$y$も示しなさい。  \n",
    "  \n",
    "  \n",
    "- 解法1:ラグランジュの未定乗数法を用いる(おそらく想定解ではない)  \n",
    "$$  \\begin{cases}\n",
    "    g(x,y)=x^2+y^2-4=0 \\\\\n",
    "    f(x,y)=4x+2xy\n",
    "    \\end{cases}$$\n",
    "ここからラグランジュ関数$L$を作る:  \n",
    "$L(x,y,\\lambda)=f(x,y)-\\lambda g(x,y)=4x+2xy-\\lambda (x^2+y^2-4)$  \n",
    "これをそれぞれの変数$x,y,\\lambda$で偏微分すると、  \n",
    "$\\tfrac{\\partial L}{\\partial x}=4+2y-2\\lambda x=0 \\cdots (1)$  \n",
    "$\\tfrac{\\partial L}{\\partial y}=2x-2\\lambda y=0 \\cdots (2)$  \n",
    "$\\tfrac{\\partial L}{\\partial \\lambda}=-x^2-y^2+4=0 \\cdots (3)$  \n",
    "(2)より$y\\neq 0$のとき$\\lambda = x/y \\cdots (4)$  \n",
    "これを(1)に代入して$x^2-y^2-2y = 0 \\cdots (5)$  \n",
    "(3),(5)より\n",
    "$$\\begin{eqnarray}x^2+y^2-4&=&x^2-y^2-2y \\\\ 2y^2+2y&=&4 \\\\ (y+2)(y-1) &=& 0 \\\\ y &=& 1,-2\\end{eqnarray}$$  \n",
    "$y=-2$のとき$x=0,\\lambda=0$  \n",
    "これは与式(1),(2),(3)を満たすので、条件内で極値をとりうる点の一つである。  \n",
    "$y=1$のとき$x=\\lambda=\\pm \\sqrt{3}$  \n",
    "これも与式を満たすので極値をとりうる点である  \n",
    "ここで、(4)を導出する際に除外した$y=0$について考えると  \n",
    "(1),(3)を満たすのは$x=2,\\lambda=1$もしくは$x=-2,\\lambda=-1$  \n",
    "(2)を満たすのは$x=0,\\lambda$は任意の実数  \n",
    "となり、両方の条件を同時に満たす$x$は存在しないため、$y=0$のとき、この条件内で極値をとらない  \n",
    "上記より、極値をとりうる点は$(0,-2),(\\pm \\sqrt{3},1)$の三つである  \n",
    "ここで、$x^2+y^2=4$という条件は円形の範囲であるので、この条件下で$4x+2xy$最大値と最小値をとることができる。  \n",
    "そして、その候補が上記の3点である。  \n",
    "1. $(x,y)=(-2,0)$のとき  \n",
    "$f(0,-2) = 0$\n",
    "2. $(x,y)=(\\sqrt{3},1)$のとき  \n",
    "$f(\\sqrt{3},1) = 6\\sqrt{3}$\n",
    "3. $(x,y)=(-\\sqrt{3},1)$のとき  \n",
    "$f(-\\sqrt{3},1) = -6\\sqrt{3}$  \n",
    "以上より、$f(x,y)=4x+2xy$の最大値は$(x,y)=(\\sqrt{3},1)$で$6\\sqrt{3}$、最小値は$(x,y)=(-\\sqrt{3},1)$で$-6\\sqrt{3}$である"
   ]
  },
  {
   "cell_type": "markdown",
   "metadata": {},
   "source": [
    "### (2)次の二重積分について、以下の問いに答えなさい。$$V=\\iint_{D}(x^2+xy)dxdy　~~\\cdots(*)$$  \n",
    "  \n",
    "  \n",
    "### 　　ただし、$D=\\{(x,y)|x^2+y^2\\leq 1\\}$とする。  \n",
    "(2-1)$x$と$y$を極座標変換し、式$(*)$の右辺を書き換えなさい。\n",
    "$$  \\begin{cases}\n",
    "    x = rcos\\theta \\\\\n",
    "    y= rsin\\theta\n",
    "    \\end{cases}$$\n",
    "とすれば、領域$D$は$$D=\\{(x,y)|x^2+y^2\\leq 1\\} = \\{(r,\\theta)| -1\\leq r\\leq 1,0 \\leq \\theta \\leq 2\\pi \\}$$となり、式$(*)$は\n",
    "    $$\\begin{eqnarray*}(*)&=&\\iint_{D}(r^2cos^2\\theta + rcos\\theta rsin\\theta)rdrd\\theta \\\\ &=& \\iint_{D}r^3(cos^2\\theta+cos\\theta sin\\theta)drd\\theta\\end{eqnarray*}$$となる。□  \n",
    "ちなみに、これ以降は\n",
    "$$ \\begin{eqnarray*} &=& \\iint_{D}r^3\\sqrt{2}cos\\theta cos(\\theta - \\frac{\\pi}{4})drd\\theta \\\\ &=& \\sqrt{2} \n",
    "\\iint_{D}r^3(cos(2\\theta-\\frac{\\pi}{4})+cos(\\frac{\\pi}{4}))drd\\theta\\end{eqnarray*}$$と変形できるがのちの計算のために上記の変形でとどめておくとよい。  \n",
    "\n",
    "(2-2)$V$の値を求めなさい。  \n",
    "(1)より$$\\begin{eqnarray*}V &=& \\int_{0}^{2\\pi}\\int_{-1}^{1}r^3(cos^2\\theta+cos\\theta sin\\theta)drd\\theta \\\\ &=&\\int_{0}^{2\\pi}(cos^2\\theta+cos\\theta sin\\theta)\\int_{-1}^{1}r^3drd\\theta \\\\ &=&\\frac{1}{2}\\int_{0}^{2\\pi}(cos^2\\theta+cos\\theta sin\\theta) \\\\ &=&  \\frac{1}{2}\\times\\frac{1}{2}[\\theta+\\frac{sin2\\theta}{2}+sin^2\\theta]_0^{2\\pi} \\\\ &=& \\frac{1}{4}(2\\pi) \\\\ &=& \\frac{\\pi}{2}\\end{eqnarray*}$$"
   ]
  },
  {
   "cell_type": "markdown",
   "metadata": {},
   "source": [
    "# 問題２　数学(2) 解答例\n",
    " ### (1) 零ベクトルでないm次元の実列ベクトル$\\mathbf{a}$,$\\mathbf{b}$について$\\mathbf{b}$から$\\mathbf{a}$への射影を考える。$\\mathbf{a}$,$\\mathbf{b}$の内積$\\mathbf{a}^T\\mathbf{b}$(ただし添字Tは転置を表す)および、$\\mathbf{a}$を正規化したベクトル$\\frac{1}{\\|\\mathbf{a}\\|}\\mathbf{a}$(ただし$\\|\\mathbf{a}\\|$はベクトル$\\mathbf{a}$のノルムを表す)を用いると、$\\mathbf{b}$から$\\mathbf{a}$への射影$\\mathbf{p}$は$$\\mathbf{p} = \\frac{\\mathbf{a}^T\\mathbf{b}}{\\|\\mathbf{a}\\|^2}\\mathbf{a}$$と書ける。\n",
    "(1-1) $\\mathbf{p} = P\\mathbf{b}$となるような射影行列$P$を求めなさい。\n",
    "$$\\mathbf{p} = P\\mathbf{b}=\\frac{\\mathbf{a}^T\\mathbf{b}}{\\|\\mathbf{a}\\|^2}\\mathbf{a} \\cdots (*)より$$\n",
    "$$\\begin{eqnarray} P\\mathbf{b}&=&\\frac{\\mathbf{a}^T\\mathbf{b}}{\\|\\mathbf{a}\\|^2}\\mathbf{a} \\\\\n",
    "  &=& \\frac{1}{\\|\\mathbf{a}\\|^2} \\begin{pmatrix} \\mathbf{a_1} & \\cdots & \\mathbf{a_m} \\end{pmatrix} \\begin{pmatrix} \\mathbf{b_1} \\\\ \\mathbf{b_2} \\\\ \\vdots \\\\ \\mathbf{b_m} \\end{pmatrix} \\begin{pmatrix} \\mathbf{a_1} \\\\ \\mathbf{a_2} \\\\ \\vdots \\\\ \\mathbf{a_m} \\end{pmatrix} \\\\ &=& \\frac{1}{\\|\\mathbf{a}\\|^2}\\begin{pmatrix} \\mathbf{a_1a_1b_1 + a_1a_2b_2 + \\cdots + a_1a_mb_m} \\\\ \\mathbf{a_2a_1b_1 + a_2a_2b_2 + \\cdots + a_2a_mb_m} \\\\ \\vdots \\\\ \\mathbf{a_ma_1b_1 + a_ma_2b_2 + \\cdots + a_ma_mb_m} \\end{pmatrix} \\\\ &=& \\frac{1}{\\|\\mathbf{a}\\|^2} \\begin{pmatrix} \\mathbf{a_1a_1} & \\mathbf{a_1a_2} & \\cdots & \\mathbf{a_1a_m} \\\\ \\mathbf{a_2a_1} & \\mathbf{a_2a_2} & \\cdots & \\mathbf{a_2a_m} \\\\ \\vdots & \\vdots & \\ddots & \\vdots \\\\ \\mathbf{a_ma_1} & \\mathbf{a_ma_2} & \\cdots & \\mathbf{a_ma_m} \\end{pmatrix} \\begin{pmatrix} \\mathbf{b_1} \\\\ \\mathbf{b_2} \\\\ \\vdots \\\\ \\mathbf{b_m} \\end{pmatrix} \\\\ &=& \\frac{1}{\\|\\mathbf{a}\\|^2}\\mathbf{aa^Tb}\n",
    " \\end{eqnarray}$$\n",
    "これが$P\\mathbf{b}$と等しいので\n",
    "$$\n",
    "P = \\frac{1}{\\|\\mathbf{a}\\|^2}\\mathbf{aa^T}\n",
    "$$\n",
    "(1-2) $P^2 = P$となることを示しなさい  \n",
    "(1-1)より$$\\begin{eqnarray}P^2&=&(\\frac{1}{\\|\\mathbf{a}\\|^2}\\mathbf{aa^T})^2 \\\\ &=& \\frac{1}{\\|\\mathbf{a}\\|^2}\\mathbf{aa^T}\\frac{1}{\\|\\mathbf{a}\\|^2}\\mathbf{aa^T}\\end{eqnarray}$$\n",
    "ここで、$\\frac{1}{\\|\\mathbf{a}\\|^2}$はスカラー量なので\n",
    "$$\n",
    "=\\frac{1}{\\|\\mathbf{a}\\|^4}\\mathbf{aa^Taa^T}\n",
    "$$\n",
    "$\\mathbf{a}$と$\\mathbf{a}$の内積$\\mathbf{a^Ta}=\\mathbf{a_1a_1+a_2a_2+a_3a_3+\\cdots+a_ma_m}=\\|\\mathbf{a}\\|^2$より\n",
    "$$\n",
    "\\begin{eqnarray}&=&\\frac{1}{\\|\\mathbf{a}\\|^4}\\mathbf{a\\|\\mathbf{a}\\|^2a^T} \\\\ &=& \\frac{\\|\\mathbf{a}\\|^2}{\\|\\mathbf{a}\\|^4}\\mathbf{aa^T} \\\\ &=& \\frac{1}{\\|\\mathbf{a}\\|^2}\\mathbf{aa^T} \\\\ &=& P \\end{eqnarray}\n",
    "$$\n",
    "(1-3) $I$を単位行列としたとき、$I-P$もまた射影行列となる。この時、$\\mathbf{b}$を$I-P$で射影して得られるベクトル$\\mathbf{c}$と、$\\mathbf{a}$、$\\mathbf{b}$の関係を図示しなさい。  \n",
    "$\\mathbf{b}$を$I-P$で射影して得られるベクトルは$\\mathbf{c}=(I-P)\\mathbf{b}=\\mathbf{b}-P\\mathbf{b}=\\mathbf{b}-\\mathbf{p}$となる  \n",
    "ここで、$\\mathbf{p}$は$\\mathbf{b}$から$\\mathbf{a}$への射影である事に注意すると、ベクトル$\\mathbf{c}$は$\\mathbf{a}$に垂直で、$\\mathbf{p}$の終端から$\\mathbf{b}$の終端へと向かうベクトルであることがわかる。  \n",
    "図は以下のとおりである\n",
    "![しゃしんのっとふぁうんど](vector1.jpg \"射影ベクトルの図示\")"
   ]
  },
  {
   "cell_type": "code",
   "execution_count": 4,
   "metadata": {},
   "outputs": [
    {
     "data": {
      "text/plain": [
       "True"
      ]
     },
     "execution_count": 4,
     "metadata": {},
     "output_type": "execute_result"
    }
   ],
   "source": []
  },
  {
   "cell_type": "markdown",
   "metadata": {},
   "source": []
  }
 ],
 "metadata": {
  "kernelspec": {
   "display_name": "Python 3",
   "language": "python",
   "name": "python3"
  },
  "language_info": {
   "codemirror_mode": {
    "name": "ipython",
    "version": 3
   },
   "file_extension": ".py",
   "mimetype": "text/x-python",
   "name": "python",
   "nbconvert_exporter": "python",
   "pygments_lexer": "ipython3",
   "version": "3.7.6"
  }
 },
 "nbformat": 4,
 "nbformat_minor": 4
}
