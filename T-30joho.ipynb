{
 "cells": [
  {
   "cell_type": "markdown",
   "metadata": {},
   "source": [
    "# 問題１　数学(1)\n",
    "### (1)$xyz$直交座標系において円柱面$x^2+y^2=1$,$xy$平面,平面$z=x$により囲まれた部分の体積を求めなさい.\n",
    "\n",
    "- 方針 四角形を積み重ねた形に見立てて積分する。\n",
    "- もしくは三角形を連ねた形に見立てて積分する。(1-x^2)みたいな形が出てきたはず\n",
    "  \n",
    "### (2)関数 $f(x,y)$ は, $x$ および $y$ について偏微分可能で $x\\tfrac{\\partial f}{\\partial x}+y\\tfrac{\\partial f}{\\partial y}=0$ なる関係を満足する. 関数 $f(x,y)$ を $x=r\\cos \\theta$,$y=r\\sin \\theta (r>0,0\\leq \\theta < 2\\pi)$ で変数変換したときの $f(r\\cos \\theta,r\\sin \\theta)$ は, 変数 $r$ を含まない関数となることを証明しなさい.\n",
    "\n",
    "連鎖律より\n",
    "$$\n",
    "\\begin{eqnarray}\n",
    "\\tfrac{\\partial f}{\\partial r} &=& \\tfrac{\\partial f}{\\partial x} \\tfrac{\\partial x}{\\partial r} + \\tfrac{\\partial f}{\\partial y} \\tfrac{\\partial y}{\\partial r} \\\\ &=& \\tfrac{\\partial f}{\\partial x} \\cos \\theta  + \\tfrac{\\partial f}{\\partial y} \\sin \\theta \\\\ &=& \\frac{1}{r} \\{ r \\cos \\theta \\tfrac{\\partial f}{\\partial x} + r \\sin \\theta \\tfrac{\\partial f}{\\partial y}  \\} \\cdots (*)\n",
    "\\end{eqnarray}\n",
    "$$\n",
    "$x = r \\cos x , y= r \\sin x$より\n",
    "$$\n",
    "\\begin{eqnarray}\n",
    "(*) &=& \\frac{1}{r} \\{ x\\tfrac{\\partial f}{\\partial x}+y\\tfrac{\\partial f}{\\partial y} \\} = 0 \\\\\n",
    "\\therefore \\tfrac{\\partial f}{\\partial r} &=& 0\n",
    "\\end{eqnarray}\n",
    "$$\n",
    "これは$r$が定数であることを示している。  \n",
    "したがって変数変換後の$f(r\\cos \\theta,r\\sin \\theta)$は$r$を含まない。"
   ]
  },
  {
   "cell_type": "markdown",
   "metadata": {},
   "source": [
    "# 問題２　数学(2)\n",
    "## 二つのメーカー $X$ および $Y$ からなる市場において, 各メーカーのユーザー数を調査したい. 毎年メーカー $X$ のユーザーのうち $\\frac{1}{10}$ がメーカー $Y$ のユーザーとなり, 一方で, メーカー $Y$ のユーザーのうち $\\frac{1}{5}$ がメーカー $X$ のユーザーとなる. それ以外は同じメーカーのユーザーのままでいるものとし, ユーザーの総数は変化しない. このとき以下の問いに答えなさい.  \n",
    "### (1) ある年におけるメーカー $X, Y$ のユーザー数をそれぞれ $x_n, y_n$ で表す. この時翌年におけるそれぞれのメーカーのユーザー数 $x_{n+1}, y_{n+1}$ を二次正方行列 $\\mathbf{A}$ を使って以下の形で表す. 行列 $\\mathbf{A}$ を具体的に示しなさい.  \n",
    "$$\n",
    "\\begin{pmatrix} x_{n+1} \\\\ y_{n+1} \\end{pmatrix} = \\mathbf{A}\\begin{pmatrix} x_{n} \\\\ y_{n} \\end{pmatrix}\n",
    "$$\n",
    "- 方針 連立方程式を立てて行列の積に置き換える  \n",
    "### (2) $\\mathbf{A}$ の固有値および固有ベクトルを求めなさい.  \n",
    "- 方針 特になし  \n",
    "### (3) $\\mathbf{P^{-1}AP}$ が対角行列となるような行列 $\\mathbf{P}$ を一つ求めるとともに, $P$ の逆行列を求めなさい.  \n",
    "- 方針 特になし  \n",
    "### (4) 行列 $A^n$ を求めなさい.  \n",
    "- 方針 ここまでの誘導を利用する.  \n",
    "(${P^{-1}AP}^n$はすぐに求まるはずだからそれを利用する)\n",
    "### (4)の結果を使って, $n\\rightarrow \\infty$ としたときのメーカー $X$ および $Y$ のユーザー数の比率を求めなさい.  \n",
    "- 方針 誘導の通りにnの極限をとると..."
   ]
  }
 ],
 "metadata": {
  "kernelspec": {
   "display_name": "Python 3",
   "language": "python",
   "name": "python3"
  },
  "language_info": {
   "codemirror_mode": {
    "name": "ipython",
    "version": 3
   },
   "file_extension": ".py",
   "mimetype": "text/x-python",
   "name": "python",
   "nbconvert_exporter": "python",
   "pygments_lexer": "ipython3",
   "version": "3.7.6"
  }
 },
 "nbformat": 4,
 "nbformat_minor": 4
}
